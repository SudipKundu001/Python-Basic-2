{
 "cells": [
  {
   "cell_type": "markdown",
   "id": "f2384dc5",
   "metadata": {},
   "source": [
    ">__1.What are the two values of the Boolean data type? How do you write them?__"
   ]
  },
  {
   "cell_type": "markdown",
   "id": "acfc8eb4",
   "metadata": {},
   "source": [
    "Ans. It has two possible values: true and false . "
   ]
  },
  {
   "cell_type": "code",
   "execution_count": 1,
   "id": "69c0f2ec",
   "metadata": {},
   "outputs": [
    {
     "name": "stdout",
     "output_type": "stream",
     "text": [
      "1\n"
     ]
    }
   ],
   "source": [
    "X= True\n",
    "Y=False\n",
    "print(X+Y)"
   ]
  },
  {
   "cell_type": "markdown",
   "id": "18f97e9a",
   "metadata": {},
   "source": [
    "Value of True is 1 and value of False is 0."
   ]
  },
  {
   "cell_type": "markdown",
   "id": "75c01400",
   "metadata": {},
   "source": [
    ">__2. What are the three different types of Boolean operators?__"
   ]
  },
  {
   "cell_type": "markdown",
   "id": "7ad03451",
   "metadata": {},
   "source": [
    "Ans. The three basic boolean operators are: AND, OR, and NOT."
   ]
  },
  {
   "cell_type": "markdown",
   "id": "0553e7c5",
   "metadata": {},
   "source": [
    ">__3. Make a list of each Boolean operator's truth tables (i.e. every possible combination of Boolean values <br> for the operator and what it evaluate ).__"
   ]
  },
  {
   "cell_type": "markdown",
   "id": "4745d0ae",
   "metadata": {},
   "source": [
    "\n",
    "|condition 1 $(e.g., X)$||condition 2 $(e.g., Y)$||NOT X $( ~ X )$||X AND Y $( X && Y )$||X OR Y$( X || Y )$|\n",
    "|----||-----||----||---||---|\n",
    "|false||false||true||false||false|\n",
    "|false||true||true||false||true|\n",
    "|true||false||false||false||true|\n",
    "|true||true||false||true||true|"
   ]
  },
  {
   "cell_type": "markdown",
   "id": "1ec9da36",
   "metadata": {},
   "source": [
    ">__4. What are the values of the following expressions?<br>- (5 > 4) and (3 == 5)<br>- not (5 > 4)<br>- (5 > 4) or (3 == 5)<br>- not ((5 > 4) or (3 == 5))<br>- (True and True) and (True == False)<br>- (not False) or (not True)__"
   ]
  },
  {
   "cell_type": "code",
   "execution_count": 3,
   "id": "74410e10",
   "metadata": {},
   "outputs": [
    {
     "data": {
      "text/plain": [
       "False"
      ]
     },
     "execution_count": 3,
     "metadata": {},
     "output_type": "execute_result"
    }
   ],
   "source": [
    "(5>4) and (3==5)"
   ]
  },
  {
   "cell_type": "code",
   "execution_count": 4,
   "id": "94090717",
   "metadata": {},
   "outputs": [
    {
     "data": {
      "text/plain": [
       "False"
      ]
     },
     "execution_count": 4,
     "metadata": {},
     "output_type": "execute_result"
    }
   ],
   "source": [
    "not (5 > 4)"
   ]
  },
  {
   "cell_type": "code",
   "execution_count": 5,
   "id": "68384908",
   "metadata": {},
   "outputs": [
    {
     "data": {
      "text/plain": [
       "True"
      ]
     },
     "execution_count": 5,
     "metadata": {},
     "output_type": "execute_result"
    }
   ],
   "source": [
    "(5 > 4) or (3 == 5)"
   ]
  },
  {
   "cell_type": "code",
   "execution_count": 6,
   "id": "f956d6e9",
   "metadata": {},
   "outputs": [
    {
     "data": {
      "text/plain": [
       "False"
      ]
     },
     "execution_count": 6,
     "metadata": {},
     "output_type": "execute_result"
    }
   ],
   "source": [
    "not ((5 > 4) or (3 == 5))"
   ]
  },
  {
   "cell_type": "code",
   "execution_count": 7,
   "id": "87b44544",
   "metadata": {},
   "outputs": [
    {
     "data": {
      "text/plain": [
       "False"
      ]
     },
     "execution_count": 7,
     "metadata": {},
     "output_type": "execute_result"
    }
   ],
   "source": [
    "(True and True) and (True == False)"
   ]
  },
  {
   "cell_type": "code",
   "execution_count": 8,
   "id": "7c51882d",
   "metadata": {},
   "outputs": [
    {
     "data": {
      "text/plain": [
       "True"
      ]
     },
     "execution_count": 8,
     "metadata": {},
     "output_type": "execute_result"
    }
   ],
   "source": [
    "(not False) or (not True)"
   ]
  },
  {
   "cell_type": "markdown",
   "id": "27d310b0",
   "metadata": {},
   "source": [
    ">__5. What are the six comparison operators?__"
   ]
  },
  {
   "cell_type": "markdown",
   "id": "f8c5b0cb",
   "metadata": {},
   "source": [
    "Ans.  Python has six comparison operators: less than ( < ), less than or equal to ( <= ), greater than ( > ), greater than or equal to ( >= ), equal to ( == ), and not equal to ( != )."
   ]
  },
  {
   "cell_type": "markdown",
   "id": "52f91ac4",
   "metadata": {},
   "source": [
    ">__6. How do you tell the difference between the equal to and assignment operators?Describe a condition and when you would use one.__"
   ]
  },
  {
   "cell_type": "markdown",
   "id": "9bd54263",
   "metadata": {},
   "source": [
    "Ans.  The “=” is an assignment operator is used to assign the value on the right to the variable on the left."
   ]
  },
  {
   "cell_type": "code",
   "execution_count": 2,
   "id": "790b8271",
   "metadata": {},
   "outputs": [],
   "source": [
    "a= 10\n",
    "b=\"i\""
   ]
  },
  {
   "cell_type": "markdown",
   "id": "c23075f6",
   "metadata": {},
   "source": [
    "The ‘==’ operator checks whether the two given operands are equal or not. If so, it returns true. Otherwise it returns false."
   ]
  },
  {
   "cell_type": "code",
   "execution_count": 3,
   "id": "526e0dab",
   "metadata": {},
   "outputs": [
    {
     "data": {
      "text/plain": [
       "True"
      ]
     },
     "execution_count": 3,
     "metadata": {},
     "output_type": "execute_result"
    }
   ],
   "source": [
    "5==5"
   ]
  },
  {
   "cell_type": "markdown",
   "id": "3b0460f0",
   "metadata": {},
   "source": [
    "><b> 7. Identify the three blocks in this code:\n",
    "* spam = 0\n",
    "* if spam == 10:\n",
    "* print('eggs')\n",
    "* if spam > 5:\n",
    "* print('bacon')\n",
    "* else:\n",
    "* print('ham')\n",
    "* print('spam')\n",
    "* print('spam') </b>"
   ]
  },
  {
   "cell_type": "code",
   "execution_count": 5,
   "id": "db14f25b",
   "metadata": {},
   "outputs": [
    {
     "name": "stdout",
     "output_type": "stream",
     "text": [
      "spam\n"
     ]
    }
   ],
   "source": [
    "# Ans.  A new block begins every time you increase the indentation of a line, and ends just before the corresponding unindent.\n",
    "\n",
    "spam = 0\n",
    "if spam == 10:\n",
    "    print('eggs')        # indent increased, block A\n",
    "    if spam > 5:         # still block A\n",
    "        print('bacon')   # still block A, indent increased, block B inside block A\n",
    "    else:                # still block A, indent decreased, block B ended in line above\n",
    "        print('ham')     # still block A, indent increased, block C inside block A\n",
    "    print('spam')        # still block A, indent decreased, block C ended in line above\n",
    "print('spam')            # indent decreased, block A ended in line above"
   ]
  },
  {
   "cell_type": "markdown",
   "id": "8c7ef3b5",
   "metadata": {},
   "source": [
    ">__8. Write code that prints Hello if 1 is stored in spam, prints Howdy if 2 is stored in spam, and prints Greetings! if anything else is stored in spam.__"
   ]
  },
  {
   "cell_type": "code",
   "execution_count": 10,
   "id": "9b56dccc",
   "metadata": {},
   "outputs": [
    {
     "name": "stdout",
     "output_type": "stream",
     "text": [
      "1\n",
      "Hello\n"
     ]
    }
   ],
   "source": [
    "spam=int(input())\n",
    "if spam ==1:\n",
    "    print('Hello')\n",
    "elif spam==2:\n",
    "    print('Howdy')\n",
    "else:\n",
    "    print('Greetngs!')\n",
    "        "
   ]
  },
  {
   "cell_type": "markdown",
   "id": "151f6899",
   "metadata": {},
   "source": [
    ">__9.If your programme is stuck in an endless loop, what keys you’ll press?__"
   ]
  },
  {
   "cell_type": "markdown",
   "id": "a036f0e4",
   "metadata": {},
   "source": [
    "Ans. Press Ctrl + C from your keyboard. "
   ]
  },
  {
   "cell_type": "markdown",
   "id": "428be9f4",
   "metadata": {},
   "source": [
    ">__10. How can you tell the difference between break and continue?__"
   ]
  },
  {
   "cell_type": "markdown",
   "id": "235ba757",
   "metadata": {},
   "source": [
    "Ans. \n",
    "\n",
    "* A break statement, when used inside the loop, will terminate the loop and exit. If used inside nested loops, it will break out from the current loop.\n",
    "* A continue statement will stop the current execution when used inside a loop, and the control will go back to the start of the loop."
   ]
  },
  {
   "cell_type": "code",
   "execution_count": 14,
   "id": "760bc8bf",
   "metadata": {},
   "outputs": [
    {
     "name": "stdout",
     "output_type": "stream",
     "text": [
      "s\n",
      "t\n",
      "r\n",
      "The end\n"
     ]
    }
   ],
   "source": [
    "#exapmple of break statement\n",
    "\n",
    "for val in \"string\":\n",
    "    if val == \"i\":\n",
    "        break\n",
    "    print(val)\n",
    "\n",
    "print(\"The end\")"
   ]
  },
  {
   "cell_type": "code",
   "execution_count": 16,
   "id": "3b65a382",
   "metadata": {},
   "outputs": [
    {
     "name": "stdout",
     "output_type": "stream",
     "text": [
      "s\n",
      "t\n",
      "r\n",
      "n\n",
      "g\n",
      "The end\n"
     ]
    }
   ],
   "source": [
    "#exapmple of continuestatement\n",
    "\n",
    "for val in \"string\":\n",
    "    if val == \"i\":\n",
    "        continue\n",
    "    print(val)\n",
    "\n",
    "print(\"The end\")"
   ]
  },
  {
   "cell_type": "markdown",
   "id": "1c80ea81",
   "metadata": {},
   "source": [
    ">__11. In a for loop, what is the difference between range(10), range(0, 10), and range(0, 10, 1)?__"
   ]
  },
  {
   "cell_type": "code",
   "execution_count": 23,
   "id": "490abfbe",
   "metadata": {},
   "outputs": [
    {
     "name": "stdout",
     "output_type": "stream",
     "text": [
      "0\n",
      "1\n",
      "2\n",
      "3\n",
      "4\n",
      "5\n",
      "6\n",
      "7\n",
      "8\n",
      "9\n"
     ]
    }
   ],
   "source": [
    "for i in range(10):\n",
    "    print(i)"
   ]
  },
  {
   "cell_type": "code",
   "execution_count": 24,
   "id": "3b66eb01",
   "metadata": {},
   "outputs": [
    {
     "name": "stdout",
     "output_type": "stream",
     "text": [
      "0\n",
      "1\n",
      "2\n",
      "3\n",
      "4\n",
      "5\n",
      "6\n",
      "7\n",
      "8\n",
      "9\n"
     ]
    }
   ],
   "source": [
    "for i in range(0,10):\n",
    "    print(i)"
   ]
  },
  {
   "cell_type": "code",
   "execution_count": 25,
   "id": "b31c7c19",
   "metadata": {},
   "outputs": [
    {
     "name": "stdout",
     "output_type": "stream",
     "text": [
      "0\n",
      "1\n",
      "2\n",
      "3\n",
      "4\n",
      "5\n",
      "6\n",
      "7\n",
      "8\n",
      "9\n"
     ]
    }
   ],
   "source": [
    "for i in range(0,10,1):\n",
    "    print(i)"
   ]
  },
  {
   "cell_type": "markdown",
   "id": "d0886ad1",
   "metadata": {},
   "source": [
    "So,looking at the above executions we can say that there is no difference among the three."
   ]
  },
  {
   "cell_type": "markdown",
   "id": "050f6847",
   "metadata": {},
   "source": [
    ">__12. Write a short program that prints the numbers 1 to 10 using a for loop. Then write an equivalent program that prints the numbers 1 to 10 using a while loop.__"
   ]
  },
  {
   "cell_type": "code",
   "execution_count": 27,
   "id": "e6bbc028",
   "metadata": {},
   "outputs": [
    {
     "name": "stdout",
     "output_type": "stream",
     "text": [
      "1\n",
      "2\n",
      "3\n",
      "4\n",
      "5\n",
      "6\n",
      "7\n",
      "8\n",
      "9\n",
      "10\n"
     ]
    }
   ],
   "source": [
    "#Using For Loop\n",
    "\n",
    "for i in range(1,11):\n",
    "    print(i)"
   ]
  },
  {
   "cell_type": "code",
   "execution_count": 28,
   "id": "4ea9fba3",
   "metadata": {},
   "outputs": [
    {
     "name": "stdout",
     "output_type": "stream",
     "text": [
      "1\n",
      "2\n",
      "3\n",
      "4\n",
      "5\n",
      "6\n",
      "7\n",
      "8\n",
      "9\n",
      "10\n"
     ]
    }
   ],
   "source": [
    "#Using While Loop\n",
    "\n",
    "i=1\n",
    "while i<11:\n",
    "    print(i)\n",
    "    i+=1\n",
    "    "
   ]
  },
  {
   "cell_type": "markdown",
   "id": "56788296",
   "metadata": {},
   "source": [
    ">__13. If you had a function named bacon() inside a module named spam, how would you call it after importing spam?__"
   ]
  },
  {
   "cell_type": "markdown",
   "id": "d866bc26",
   "metadata": {},
   "source": [
    "Ans.  spam.bacon()"
   ]
  }
 ],
 "metadata": {
  "kernelspec": {
   "display_name": "Python 3",
   "language": "python",
   "name": "python3"
  },
  "language_info": {
   "codemirror_mode": {
    "name": "ipython",
    "version": 3
   },
   "file_extension": ".py",
   "mimetype": "text/x-python",
   "name": "python",
   "nbconvert_exporter": "python",
   "pygments_lexer": "ipython3",
   "version": "3.8.8"
  }
 },
 "nbformat": 4,
 "nbformat_minor": 5
}
